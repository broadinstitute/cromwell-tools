{
 "cells": [
  {
   "cell_type": "markdown",
   "metadata": {},
   "source": [
    "# Cromwell-tools Python API Quickstart\n",
    "\n",
    "This notebook will help you get familiar with the Cromwell-tools' Python API client. After walking through this notebook \n",
    "you should be able to import cromwell-tools in your Python application and talk to Cromwell engine using various \n",
    "authentication methods.\n"
   ]
  },
  {
   "cell_type": "markdown",
   "metadata": {},
   "source": [
    "## Standard Authentication"
   ]
  },
  {
   "cell_type": "markdown",
   "metadata": {},
   "source": [
    "### 1. [Recommended] Authenticate with Cromwell using the standardized method\n",
    "\n",
    "cromwell-tools provides a standard method `cromwell_tools.cromwell_auth.CromwellAuth.harmonize_credentials` to authenticate with various Cromwell instances, which is \n",
    "the preferred auth method."
   ]
  },
  {
   "cell_type": "code",
   "execution_count": 2,
   "metadata": {},
   "outputs": [],
   "source": [
    "from cromwell_tools.cromwell_auth import CromwellAuth\n",
    "\n",
    "# Authenticate with Cromwell using HTTPBasicAuth (username and password)\n",
    "auth = CromwellAuth.harmonize_credentials(username='username', \n",
    "                                          password='password', \n",
    "                                          url='https://cromwell.xxx.broadinstitute.org')\n",
    "\n",
    "# Authenticate with Cromwell using HTTPBasicAuth (secret JSON file)\n",
    "auth_2 = CromwellAuth.harmonize_credentials(secrets_file='path/to/secrets_file.json')\n",
    "\n",
    "# Authenticate with Cromwell using OAuth (service account JSON key file)\n",
    "auth_3 = CromwellAuth.harmonize_credentials(service_account_key='path/to/service/account/key.json', \n",
    "                                            url='https://cromwell.caas-prod.broadinstitute.org')\n",
    "\n",
    "# Authenticate with Cromwell with no Auth\n",
    "auth_4 = CromwellAuth.harmonize_credentials(url='https://cromwell.caas-prod.broadinstitute.org')"
   ]
  },
  {
   "cell_type": "markdown",
   "metadata": {},
   "source": [
    "### 2. Authenticate with Cromwell using HTTPBasicAuth (username and password)"
   ]
  },
  {
   "cell_type": "code",
   "execution_count": 37,
   "metadata": {},
   "outputs": [],
   "source": [
    "from cromwell_tools.cromwell_auth import CromwellAuth\n",
    "\n",
    "auth_httpbasic = CromwellAuth.from_user_password(username='username', \n",
    "                                                 password='password', \n",
    "                                                 url='https://cromwell.xxx.broadinstitute.org')"
   ]
  },
  {
   "cell_type": "markdown",
   "metadata": {},
   "source": [
    "### 3. Authenticate with Cromwell using HTTPBasicAuth (secret JSON file)"
   ]
  },
  {
   "cell_type": "markdown",
   "metadata": {},
   "source": [
    "A secret JSON file should look like the following example with 3 keys:\n",
    "```JSON\n",
    "{\n",
    "    \"url\": \"url\",\n",
    "    \"username\": \"username\",\n",
    "    \"password\": \"password\"\n",
    "}\n",
    "```"
   ]
  },
  {
   "cell_type": "code",
   "execution_count": 3,
   "metadata": {},
   "outputs": [],
   "source": [
    "from cromwell_tools.cromwell_auth import CromwellAuth\n",
    "\n",
    "auth_httpbasic_file = CromwellAuth.from_secrets_file(secrets_file='path/to/secrets_file.json')"
   ]
  },
  {
   "cell_type": "markdown",
   "metadata": {},
   "source": [
    "### 4. Authenticate with Cromwell using OAuth (service account JSON key file)"
   ]
  },
  {
   "cell_type": "code",
   "execution_count": 25,
   "metadata": {},
   "outputs": [],
   "source": [
    "from cromwell_tools.cromwell_auth import CromwellAuth\n",
    "\n",
    "auth_oauth = CromwellAuth.from_service_account_key_file(service_account_key='path/to/service/account/key.json', \n",
    "                                                        url='https://cromwell.caas-prod.broadinstitute.org')"
   ]
  },
  {
   "cell_type": "markdown",
   "metadata": {},
   "source": [
    "### 5. Authenticate with Cromwell with no Auth"
   ]
  },
  {
   "cell_type": "code",
   "execution_count": 5,
   "metadata": {},
   "outputs": [],
   "source": [
    "from cromwell_tools.cromwell_auth import CromwellAuth\n",
    "\n",
    "auth_no_auth = CromwellAuth.from_no_authentication(url='https://cromwell.caas-prod.broadinstitute.org')"
   ]
  },
  {
   "cell_type": "markdown",
   "metadata": {},
   "source": [
    "## Submit jobs to Cromwell/Cromwell-as-a-Service"
   ]
  },
  {
   "cell_type": "code",
   "execution_count": 3,
   "metadata": {},
   "outputs": [],
   "source": [
    "from cromwell_tools import api\n",
    "from cromwell_tools import utilities"
   ]
  },
  {
   "cell_type": "code",
   "execution_count": 4,
   "metadata": {},
   "outputs": [],
   "source": [
    "response = api.submit(auth=auth, \n",
    "                      wdl_file='Examples/hello_world.wdl', \n",
    "                      inputs_files=['Examples/inputs.json'], \n",
    "                      dependencies=['Examples/helloworld.wdl'])"
   ]
  },
  {
   "cell_type": "code",
   "execution_count": 5,
   "metadata": {},
   "outputs": [
    {
     "data": {
      "text/plain": [
       "{'id': '2df17053-57d1-44a4-a922-efea7b29beb0', 'status': 'Submitted'}"
      ]
     },
     "execution_count": 5,
     "metadata": {},
     "output_type": "execute_result"
    }
   ],
   "source": [
    "response.json()"
   ]
  },
  {
   "cell_type": "code",
   "execution_count": 7,
   "metadata": {},
   "outputs": [
    {
     "name": "stdout",
     "output_type": "stream",
     "text": [
      "All workflows succeeded!\n"
     ]
    }
   ],
   "source": [
    "api.wait(workflow_ids=[response.json()['id']], auth=auth, poll_interval_seconds=3)"
   ]
  },
  {
   "cell_type": "markdown",
   "metadata": {},
   "source": [
    "## Query jobs in Cromwell/Cromwell-as-a-Service"
   ]
  },
  {
   "cell_type": "markdown",
   "metadata": {},
   "source": [
    "### Get the workflows"
   ]
  },
  {
   "cell_type": "code",
   "execution_count": 8,
   "metadata": {},
   "outputs": [],
   "source": [
    "from cromwell_tools import api\n",
    "from cromwell_tools import utilities"
   ]
  },
  {
   "cell_type": "markdown",
   "metadata": {},
   "source": [
    "There are a lot of query keys can be used to filter workflows\n",
    "A complicated query dict could be:\n",
    "```python\n",
    "custom_query_dict = {\n",
    "    'label': {\n",
    "        'cromwell-workflow-id': 'cromwell-xxxxxxxx-xxxx-xxxx-xxxx-xxxxxxxxxxxx',\n",
    "        'project_shortname': 'Name of a project that trigerred this workflow'\n",
    "    },\n",
    "    'status': ['Running', 'Succeeded', 'Aborted', 'Submitted', 'On Hold', 'Failed'],\n",
    "    'id': 'xxxxxxxx-xxxx-xxxx-xxxx-xxxxxxxxxxxx',\n",
    "    'additionalQueryResultFields': 'labels',\n",
    "    'submission': '2018-01-01T00:01:01.410150Z',\n",
    "    'start': '2018-01-01T01:01:01.410150Z',\n",
    "    'end': '2018-01-01T02:01:01.410150Z',\n",
    "    'name': ['SmartSeq2SingleCell', '10xCount'],\n",
    "    'additionalQueryResultFields': ['labels'],\n",
    "    'includeSubworkflows': True\n",
    "}\n",
    "```\n",
    "We will just use a very simple example here to query for the workflow we just submitted:"
   ]
  },
  {
   "cell_type": "code",
   "execution_count": 9,
   "metadata": {},
   "outputs": [],
   "source": [
    "custom_query_dict = {\n",
    "    'name': 'HelloWorld',\n",
    "    'id': response.json()['id']\n",
    "}\n",
    "\n",
    "response = api.query(query_dict=custom_query_dict, auth=auth)"
   ]
  },
  {
   "cell_type": "code",
   "execution_count": 10,
   "metadata": {},
   "outputs": [
    {
     "data": {
      "text/plain": [
       "[{'name': 'HelloWorld',\n",
       "  'id': '2df17053-57d1-44a4-a922-efea7b29beb0',\n",
       "  'submission': '2018-11-19T20:58:34.362Z',\n",
       "  'status': 'Succeeded',\n",
       "  'end': '2018-11-19T21:00:04.674Z',\n",
       "  'start': '2018-11-19T20:58:45.442Z'}]"
      ]
     },
     "execution_count": 10,
     "metadata": {},
     "output_type": "execute_result"
    }
   ],
   "source": [
    "response.json()['results']"
   ]
  },
  {
   "cell_type": "markdown",
   "metadata": {},
   "source": [
    "## Submit jobs with On Hold in Cromwell/Cromwell-as-a-Service\n",
    "- Submit a job with \"On Hold\" status.\n",
    "- Check the status.\n",
    "- Release the job."
   ]
  },
  {
   "cell_type": "markdown",
   "metadata": {},
   "source": [
    "### Submit the job"
   ]
  },
  {
   "cell_type": "code",
   "execution_count": 11,
   "metadata": {},
   "outputs": [],
   "source": [
    "from cromwell_tools import api\n",
    "from cromwell_tools import utilities"
   ]
  },
  {
   "cell_type": "code",
   "execution_count": 13,
   "metadata": {},
   "outputs": [],
   "source": [
    "response = api.submit(auth=auth, \n",
    "                      wdl_file='Examples/hello_world.wdl', \n",
    "                      inputs_files=['Examples/inputs.json'], \n",
    "                      dependencies=['Examples/helloworld.wdl'], \n",
    "                      on_hold=True)"
   ]
  },
  {
   "cell_type": "code",
   "execution_count": 14,
   "metadata": {},
   "outputs": [
    {
     "data": {
      "text/plain": [
       "{'id': 'a996309c-03ae-4c96-bced-63215448b0dd', 'status': 'On Hold'}"
      ]
     },
     "execution_count": 14,
     "metadata": {},
     "output_type": "execute_result"
    }
   ],
   "source": [
    "response.json()"
   ]
  },
  {
   "cell_type": "markdown",
   "metadata": {},
   "source": [
    "### Check the status of the job"
   ]
  },
  {
   "cell_type": "code",
   "execution_count": 16,
   "metadata": {},
   "outputs": [
    {
     "data": {
      "text/plain": [
       "{'status': 'On Hold', 'id': 'a996309c-03ae-4c96-bced-63215448b0dd'}"
      ]
     },
     "execution_count": 16,
     "metadata": {},
     "output_type": "execute_result"
    }
   ],
   "source": [
    "response = api.status(auth=auth, \n",
    "                      uuid=response.json()['id'])\n",
    "response.json()"
   ]
  },
  {
   "cell_type": "markdown",
   "metadata": {},
   "source": [
    "### Release the job"
   ]
  },
  {
   "cell_type": "code",
   "execution_count": 18,
   "metadata": {},
   "outputs": [
    {
     "data": {
      "text/plain": [
       "{'id': 'a996309c-03ae-4c96-bced-63215448b0dd', 'status': 'Submitted'}"
      ]
     },
     "execution_count": 18,
     "metadata": {},
     "output_type": "execute_result"
    }
   ],
   "source": [
    "response = api.release_hold(auth=auth, \n",
    "                            uuid=response.json()['id'])\n",
    "response.json()"
   ]
  }
 ],
 "metadata": {
  "kernelspec": {
   "display_name": "Python 3",
   "language": "python",
   "name": "python3"
  },
  "language_info": {
   "codemirror_mode": {
    "name": "ipython",
    "version": 3
   },
   "file_extension": ".py",
   "mimetype": "text/x-python",
   "name": "python",
   "nbconvert_exporter": "python",
   "pygments_lexer": "ipython3",
   "version": "3.6.4"
  },
  "pycharm": {
   "stem_cell": {
    "cell_type": "raw",
    "source": [],
    "metadata": {
     "collapsed": false
    }
   }
  }
 },
 "nbformat": 4,
 "nbformat_minor": 2
}